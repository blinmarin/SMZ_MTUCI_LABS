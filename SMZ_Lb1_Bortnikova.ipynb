{
  "nbformat": 4,
  "nbformat_minor": 0,
  "metadata": {
    "colab": {
      "provenance": []
    },
    "kernelspec": {
      "name": "python3",
      "display_name": "Python 3"
    },
    "language_info": {
      "name": "python"
    }
  },
  "cells": [
    {
      "cell_type": "code",
      "execution_count": 1,
      "metadata": {
        "colab": {
          "base_uri": "https://localhost:8080/"
        },
        "id": "K0ilFa8ZoMJJ",
        "outputId": "33da1478-a4ce-4a15-ce4a-554516083c4f"
      },
      "outputs": [
        {
          "output_type": "stream",
          "name": "stdout",
          "text": [
            "Overwriting myConv.py\n"
          ]
        }
      ],
      "source": [
        "%%file myConv.py\n",
        "\n",
        "import torch\n",
        "import numpy as np\n",
        "def myConv2d(in_channels, out_channels, kernel_size, stride=1, padding=0, dilation=1, groups=1, bias=True, padding_mode='zeros'):\n",
        "  def Svertca(matrix):\n",
        "\n",
        "    #groups exeption\n",
        "    if (in_channels%groups != 0) or (out_channels%groups!=0):\n",
        "      raise Exception('in_channels and out_channels must be divisible by groups')\n",
        "\n",
        "    #генерация bias\n",
        "    if bias == True:\n",
        "      bias_val = torch.rand(out_channels)\n",
        "    else:\n",
        "      bias_val = torch.zeros(out_channels)\n",
        "\n",
        "    #padding_mode\n",
        "    if (padding_mode == 'zeros'):\n",
        "      pad = torch.nn.ZeroPad2d(padding)\n",
        "      matrix = pad(matrix)\n",
        "    if (padding_mode == 'reflect'):\n",
        "      pad = torch.nn.ReflectionPad2d(padding)\n",
        "      matrix = pad(matrix)\n",
        "    if (padding_mode == 'replicate'):\n",
        "      pad = torch.nn.ReplicationPad2d(2)\n",
        "      matrix = pad(matrix)\n",
        "    if (padding_mode == 'circular'):\n",
        "      pad = torch.nn.CircularPad2d(padding)\n",
        "      matrix = pad(matrix)\n",
        "\n",
        "    #генерация ядра\n",
        "    if type(kernel_size) == tuple:\n",
        "      filter = torch.rand(out_channels, in_channels//groups, kernel_size[0], kernel_size[1])\n",
        "    if type(kernel_size) == int:\n",
        "      filter = torch.rand(out_channels, in_channels//groups, kernel_size, kernel_size)\n",
        "\n",
        "    #filter = b\n",
        "    # bias_val = bi\n",
        "\n",
        "    spisok = []\n",
        "    for l in range(out_channels):\n",
        "      feature_map = np.array([]) #генерация пустой feature-map\n",
        "      for i in range (0, matrix.shape[1]-((filter.shape[2]-1)*dilation+1)+1, stride): #(filter.size - 1)*dilation + 1 при delation\n",
        "        for j in range (0, matrix.shape[2]-((filter.shape[3]-1)*dilation+1)+1, stride):\n",
        "          summa = 0\n",
        "          for c in range (in_channels//groups): #groups\n",
        "            if groups>1:\n",
        "              val = matrix[l*(in_channels//groups)+c][i:i+(filter.shape[2]-1)*dilation+1:dilation, j:j+(filter.shape[3]-1)*dilation+1:dilation]\n",
        "            else:\n",
        "              val = matrix[c][i:i+(filter.shape[2]-1)*dilation+1:dilation, j:j+(filter.shape[3]-1)*dilation+1:dilation]\n",
        "            mini_sum = (val*filter[l][c]).sum()\n",
        "            summa = summa + mini_sum\n",
        "          feature_map = np.append(feature_map, float(summa + bias_val[l])) #bias\n",
        "\n",
        "      spisok.append(feature_map.reshape((matrix.shape[1]-((filter.shape[2]-1)*dilation+1))//stride+1, (matrix.shape[2]-((filter.shape[3]-1)*dilation+1))//stride+1))\n",
        "\n",
        "    return np.array(spisok), np.array(filter), np.array(bias_val)\n",
        "\n",
        "  return Svertca"
      ]
    },
    {
      "cell_type": "code",
      "source": [
        "%%file conftest.py\n",
        "\n",
        "from pytest import fixture\n",
        "import requests\n",
        "\n",
        "@fixture\n",
        "def session():\n",
        "  s = requests.Session()\n",
        "  s.headers.update({\"User-Agent\": \"pytest requests\"})\n",
        "  s.verify = True\n",
        "  yield s\n",
        "  s.close()"
      ],
      "metadata": {
        "colab": {
          "base_uri": "https://localhost:8080/"
        },
        "id": "qSTvjZg0oh5O",
        "outputId": "ec69c406-d64e-4c1b-aa18-b83cde0e4927"
      },
      "execution_count": 2,
      "outputs": [
        {
          "output_type": "stream",
          "name": "stdout",
          "text": [
            "Overwriting conftest.py\n"
          ]
        }
      ]
    },
    {
      "cell_type": "code",
      "source": [
        "%%file test_http.py\n",
        "\n",
        "import numpy as np\n",
        "import torch\n",
        "import sys\n",
        "import os\n",
        "\n",
        "py_file_location = \"/content/myConv.py\"\n",
        "sys.path.append(os.path.abspath(py_file_location))\n",
        "from myConv import myConv2d\n",
        "\n",
        "tensor1 = torch.rand(4, 5, 6)\n",
        "tensor2 = torch.rand(3, 28, 28)\n",
        "tensor3 = torch.rand(1, 1, 1)\n",
        "\n",
        "\n",
        "def test_1(session):\n",
        "  myFunction = myConv2d(in_channels=4, out_channels=2, kernel_size=3, stride=1, padding=0, dilation=1, groups=2, bias=True, padding_mode='zeros')\n",
        "  result, kernel, bias_val = myFunction(tensor1)\n",
        "  torchFunction = torch.nn.Conv2d(in_channels=4, out_channels=2, kernel_size=3, stride=1, padding=0, dilation=1, groups=2, bias=True, padding_mode='zeros')\n",
        "  torchFunction.weight.data = torch.tensor(kernel)\n",
        "  torchFunction.bias.data = torch.tensor(bias_val)\n",
        "  myResult = str(np.round(result, 2))\n",
        "  torchResult = str(np.round(np.array(torchFunction(tensor1).data), 2))\n",
        "  assert torchResult == myResult\n",
        "\n",
        "\n",
        "def test_2(session):\n",
        "  myFunction2 = myConv2d(in_channels=3, out_channels=1, kernel_size=3, stride=1, padding=0, dilation=2, groups=1, bias=True, padding_mode='zeros')\n",
        "  result2, kernel2, bias_val2 = myFunction2(tensor2)\n",
        "  torchFunction2 = torch.nn.Conv2d(in_channels=3, out_channels=1, kernel_size=3, stride=1, padding=0, dilation=2, groups=1, bias=True, padding_mode='zeros')\n",
        "  torchFunction2.weight.data = torch.tensor(kernel2)\n",
        "  torchFunction2.bias.data = torch.tensor(bias_val2)\n",
        "  myResult = str(np.round(result2, 2))\n",
        "  torchResult = str(np.round(np.array(torchFunction2(tensor2).data), 2))\n",
        "  assert torchResult == myResult\n",
        "\n",
        "\n",
        "def test_3(session):\n",
        "  myFunction3 = myConv2d(in_channels=1, out_channels=1, kernel_size=1, stride=1, padding=0, dilation=1, groups=1, bias=True, padding_mode='zeros')\n",
        "  result3, kernel3, bias_val3 = myFunction3(tensor3)\n",
        "  torchFunction3 = torch.nn.Conv2d(in_channels=1, out_channels=1, kernel_size=1, stride=1, padding=0, dilation=1, groups=1, bias=True, padding_mode='zeros')\n",
        "  torchFunction3.weight.data = torch.tensor(kernel3)\n",
        "  torchFunction3.bias.data = torch.tensor(bias_val3)\n",
        "  myResult = str(np.round(result3, 2))\n",
        "  torchResult = str(np.round(np.array(torchFunction3(tensor3).data), 2))\n",
        "  assert torchResult == myResult\n",
        "\n"
      ],
      "metadata": {
        "colab": {
          "base_uri": "https://localhost:8080/"
        },
        "id": "ez4wMeLWoPx6",
        "outputId": "3a302f9f-be65-4fb3-8a37-776998a6126f"
      },
      "execution_count": 17,
      "outputs": [
        {
          "output_type": "stream",
          "name": "stdout",
          "text": [
            "Overwriting test_http.py\n"
          ]
        }
      ]
    },
    {
      "cell_type": "code",
      "source": [
        "!pytest"
      ],
      "metadata": {
        "colab": {
          "base_uri": "https://localhost:8080/"
        },
        "id": "4841mfWWoWUx",
        "outputId": "e0f5ba59-49f3-44e1-f59d-a2b251c0b141"
      },
      "execution_count": 18,
      "outputs": [
        {
          "output_type": "stream",
          "name": "stdout",
          "text": [
            "\u001b[1m======================================= test session starts ========================================\u001b[0m\n",
            "platform linux -- Python 3.10.12, pytest-7.4.2, pluggy-1.3.0\n",
            "rootdir: /content\n",
            "plugins: anyio-3.7.1\n",
            "collected 3 items                                                                                  \u001b[0m\n",
            "\n",
            "test_http.py \u001b[32m.\u001b[0m\u001b[32m.\u001b[0m\u001b[32m.\u001b[0m\u001b[32m                                                                             [100%]\u001b[0m\n",
            "\n",
            "\u001b[32m======================================== \u001b[32m\u001b[1m3 passed\u001b[0m\u001b[32m in 2.19s\u001b[0m\u001b[32m =========================================\u001b[0m\n"
          ]
        }
      ]
    },
    {
      "cell_type": "code",
      "source": [
        "import numpy as np\n",
        "import torch\n",
        "import sys\n",
        "import os\n",
        "\n",
        "py_file_location = \"/content/myConv.py\"\n",
        "sys.path.append(os.path.abspath(py_file_location))\n",
        "from myConv import myConv2d\n",
        "\n",
        "tensor1 = torch.rand(8, 5, 6)\n",
        "\n",
        "myFunction = myConv2d(in_channels=8, out_channels=4, kernel_size=3, stride=1, padding=0, dilation=1, groups=4, bias=True, padding_mode='zeros')\n",
        "result, kernel, bias_val = myFunction(tensor1)\n",
        "torchFunction = torch.nn.Conv2d(in_channels=8, out_channels=4, kernel_size=3, stride=1, padding=0, dilation=1, groups=4, bias=True, padding_mode='zeros')\n",
        "torchFunction.weight.data = torch.tensor(kernel)\n",
        "torchFunction.bias.data = torch.tensor(bias_val)\n",
        "\n",
        "print(result)\n",
        "print('===================================')\n",
        "print(np.array(torchFunction(tensor1).data))"
      ],
      "metadata": {
        "colab": {
          "base_uri": "https://localhost:8080/"
        },
        "id": "didgm0cXwJwO",
        "outputId": "8d8bfa94-88a8-478d-ad89-22acc36b80b6"
      },
      "execution_count": null,
      "outputs": [
        {
          "output_type": "stream",
          "name": "stdout",
          "text": [
            "[[[3.34844255 3.95108986 4.54495287 4.99099159]\n",
            "  [3.47761631 4.52002954 5.16909838 5.16851377]\n",
            "  [3.82740164 4.9305582  4.66527796 5.91074657]]\n",
            "\n",
            " [[3.72950912 3.0689764  3.0299809  3.11834979]\n",
            "  [3.42131066 3.28885055 2.81432533 3.67164302]\n",
            "  [4.02423239 4.10868788 3.77645254 3.73318553]]\n",
            "\n",
            " [[4.89313793 6.34338093 5.44284248 4.74965191]\n",
            "  [5.9346981  5.67188835 5.82754135 5.80281639]\n",
            "  [5.5212698  5.21251488 4.69557285 4.83321714]]\n",
            "\n",
            " [[4.32730579 4.0435605  3.25495052 3.11661029]\n",
            "  [4.73951387 4.09995651 4.08717823 4.14778709]\n",
            "  [5.31597471 4.77475882 5.07710695 5.47960043]]]\n",
            "===================================\n",
            "[[[3.3484426 3.9510894 4.544953  4.9909916]\n",
            "  [3.4776165 4.520029  5.1690984 5.168514 ]\n",
            "  [3.8274016 4.9305577 4.6652775 5.9107456]]\n",
            "\n",
            " [[3.7295089 3.0689764 3.029981  3.1183493]\n",
            "  [3.4213104 3.2888508 2.8143256 3.671643 ]\n",
            "  [4.024233  4.1086884 3.7764528 3.7331855]]\n",
            "\n",
            " [[4.893138  6.34338   5.4428425 4.749652 ]\n",
            "  [5.934698  5.6718884 5.8275414 5.8028164]\n",
            "  [5.52127   5.212515  4.695573  4.8332176]]\n",
            "\n",
            " [[4.327306  4.0435605 3.2549505 3.1166105]\n",
            "  [4.739514  4.0999565 4.087178  4.147787 ]\n",
            "  [5.315975  4.774759  5.077107  5.4796   ]]]\n"
          ]
        }
      ]
    },
    {
      "cell_type": "code",
      "source": [
        "import numpy as np\n",
        "import torch\n",
        "import sys\n",
        "import os\n",
        "py_file_location = \"/content/myConv.py\"\n",
        "sys.path.append(os.path.abspath(py_file_location))\n",
        "from myConv import myConv2d\n",
        "\n",
        "tensor2 = torch.rand(3, 10, 10)\n",
        "\n",
        "myFunction2 = myConv2d(in_channels=3, out_channels=1, kernel_size=3, stride=1, padding=0, dilation=2, groups=1, bias=True, padding_mode='zeros')\n",
        "result2, kernel2, bias_val2 = myFunction2(tensor2)\n",
        "torchFunction2 = torch.nn.Conv2d(in_channels=3, out_channels=1, kernel_size=3, stride=1, padding=0, dilation=2, groups=1, bias=True, padding_mode='zeros')\n",
        "torchFunction2.weight.data = torch.tensor(kernel2)\n",
        "torchFunction2.bias.data = torch.tensor(bias_val2)\n",
        "\n",
        "print(result2)\n",
        "print('===================================')\n",
        "print(np.array(torchFunction2(tensor2).data))"
      ],
      "metadata": {
        "colab": {
          "base_uri": "https://localhost:8080/"
        },
        "id": "G6PMUwY6vxI_",
        "outputId": "e96d964a-2df6-469d-9e65-c26225c2d471"
      },
      "execution_count": null,
      "outputs": [
        {
          "output_type": "stream",
          "name": "stdout",
          "text": [
            "[[[ 8.65114594  6.63290262  8.87612343  7.70555401  9.6898632\n",
            "    8.4545269 ]\n",
            "  [ 7.80007124  7.32617331  8.38645172  8.6049118   7.9856801\n",
            "    6.71231604]\n",
            "  [ 6.50906467  6.34039545  8.4602375   7.52484369 10.23536491\n",
            "    7.70941877]\n",
            "  [ 6.77037954  8.51693916  6.57404184  7.97103643  6.60268545\n",
            "    7.91831541]\n",
            "  [ 6.49199677  5.53396177  8.35616493  6.08350801  8.08309555\n",
            "    8.14698219]\n",
            "  [ 5.99466372  6.36886835  6.4908061   7.67802572  6.51692915\n",
            "    6.84761524]]]\n",
            "===================================\n",
            "[[[ 8.651146   6.6329036  8.876123   7.7055535  9.689863   8.454527 ]\n",
            "  [ 7.8000717  7.3261733  8.386452   8.604913   7.98568    6.712316 ]\n",
            "  [ 6.5090647  6.340394   8.460237   7.5248446 10.235366   7.709418 ]\n",
            "  [ 6.7703795  8.51694    6.574043   7.971037   6.602685   7.918315 ]\n",
            "  [ 6.491997   5.533962   8.356165   6.083507   8.0830965  8.146982 ]\n",
            "  [ 5.9946647  6.368868   6.4908056  7.6780243  6.516929   6.8476157]]]\n"
          ]
        }
      ]
    },
    {
      "cell_type": "code",
      "source": [
        "import numpy as np\n",
        "import torch\n",
        "import sys\n",
        "import os\n",
        "\n",
        "py_file_location = \"/content/myConv.py\"\n",
        "sys.path.append(os.path.abspath(py_file_location))\n",
        "from myConv import myConv2d\n",
        "\n",
        "tensor3 = torch.rand(1, 1, 1)\n",
        "\n",
        "myFunction3 = myConv2d(in_channels=1, out_channels=1, kernel_size=1, stride=1, padding=0, dilation=1, groups=1, bias=True, padding_mode='zeros')\n",
        "result3, kernel3, bias_val3 = myFunction3(tensor3)\n",
        "torchFunction3 = torch.nn.Conv2d(in_channels=1, out_channels=1, kernel_size=1, stride=1, padding=0, dilation=1, groups=1, bias=True, padding_mode='zeros')\n",
        "torchFunction3.weight.data = torch.tensor(kernel3)\n",
        "torchFunction3.bias.data = torch.tensor(bias_val3)\n",
        "\n",
        "print(result3)\n",
        "print('===================================')\n",
        "print(np.array(torchFunction3(tensor3).data))"
      ],
      "metadata": {
        "colab": {
          "base_uri": "https://localhost:8080/"
        },
        "id": "akNu6MzHwd6o",
        "outputId": "be1173de-6b56-4b20-f169-0c78beb38db4"
      },
      "execution_count": null,
      "outputs": [
        {
          "output_type": "stream",
          "name": "stdout",
          "text": [
            "[[[0.67961389]]]\n",
            "===================================\n",
            "[[[0.6796139]]]\n"
          ]
        }
      ]
    },
    {
      "cell_type": "code",
      "source": [
        "import numpy as np\n",
        "import torch\n",
        "import sys\n",
        "import os\n",
        "\n",
        "py_file_location = \"/content/myConv.py\"\n",
        "sys.path.append(os.path.abspath(py_file_location))\n",
        "from myConv import myConv2d\n",
        "\n",
        "tensor4 = torch.rand(4, 5, 5)\n",
        "\n",
        "myFunction4 = myConv2d(in_channels=4, out_channels=2, kernel_size=3, stride=2, padding=2, dilation=1, groups=2, bias=True, padding_mode='zeros')\n",
        "result4, kernel4, bias_val4 = myFunction4(tensor4)\n",
        "torchFunction4 = torch.nn.Conv2d(in_channels=4, out_channels=2, kernel_size=3, stride=2, padding=2, dilation=1, groups=2, bias=True, padding_mode='zeros')\n",
        "torchFunction4.weight.data = torch.tensor(kernel4)\n",
        "torchFunction4.bias.data = torch.tensor(bias_val4)\n",
        "\n",
        "print(result4)\n",
        "print('===================================')\n",
        "print(np.array(torchFunction4(tensor4).data))"
      ],
      "metadata": {
        "colab": {
          "base_uri": "https://localhost:8080/"
        },
        "id": "u-aAgBMMwvva",
        "outputId": "e0991d1a-da0f-4710-a02f-1a3b8b68b3ae"
      },
      "execution_count": null,
      "outputs": [
        {
          "output_type": "stream",
          "name": "stdout",
          "text": [
            "[[[1.23561835 1.58305216 2.35816383 1.28849316]\n",
            "  [2.59952831 5.50430155 6.40189981 2.71030331]\n",
            "  [1.73200881 5.05753469 4.45660257 1.93866241]\n",
            "  [1.32079434 2.92449093 1.73164964 1.15448403]]\n",
            "\n",
            " [[0.39932436 2.71708417 2.60664701 1.11812103]\n",
            "  [1.62690139 6.49363995 4.50790977 2.38324142]\n",
            "  [1.24424589 4.76778507 6.88690186 3.02811503]\n",
            "  [1.06748772 2.47526622 3.49918818 1.57792783]]]\n",
            "===================================\n",
            "[[[1.2356184  1.5830522  2.3581638  1.2884932 ]\n",
            "  [2.5995278  5.5043015  6.4019     2.7103033 ]\n",
            "  [1.7320088  5.057534   4.4566026  1.9386624 ]\n",
            "  [1.3207943  2.924491   1.7316496  1.154484  ]]\n",
            "\n",
            " [[0.39932436 2.717084   2.606647   1.1181211 ]\n",
            "  [1.6269013  6.49364    4.50791    2.3832412 ]\n",
            "  [1.2442459  4.767785   6.886902   3.028115  ]\n",
            "  [1.0674877  2.4752662  3.4991882  1.5779278 ]]]\n"
          ]
        }
      ]
    }
  ]
}