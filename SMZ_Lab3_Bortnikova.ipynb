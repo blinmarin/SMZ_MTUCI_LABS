{
  "nbformat": 4,
  "nbformat_minor": 0,
  "metadata": {
    "colab": {
      "provenance": []
    },
    "kernelspec": {
      "name": "python3",
      "display_name": "Python 3"
    },
    "language_info": {
      "name": "python"
    }
  },
  "cells": [
    {
      "cell_type": "code",
      "execution_count": 1,
      "metadata": {
        "id": "vge37KlT-IAg",
        "colab": {
          "base_uri": "https://localhost:8080/"
        },
        "outputId": "324af7b5-4009-4b04-cb31-3afcddbdf570"
      },
      "outputs": [
        {
          "output_type": "stream",
          "name": "stdout",
          "text": [
            "Overwriting myConv.py\n"
          ]
        }
      ],
      "source": [
        "%%file myConv.py\n",
        "\n",
        "import torch\n",
        "import numpy as np\n",
        "def myConvTranspose2d(in_channels, out_channels, kernel_size, stride=1, padding=0, output_padding=0, dilation=1, bias=True, padding_mode='zeros'):\n",
        "  def Svertca(matrix):\n",
        "\n",
        "    #генерация bias\n",
        "    if bias == True:\n",
        "      bias_val = torch.rand(out_channels)\n",
        "    else:\n",
        "      bias_val = torch.zeros(out_channels)\n",
        "\n",
        "    #padding_mode\n",
        "    if (padding_mode != 'zeros'):\n",
        "      raise Exception('only \"zeros\" padding_mode in ConvTranspose2d')\n",
        "\n",
        "    #генерация ядра\n",
        "    if type(kernel_size) == tuple:\n",
        "      filter = torch.rand(in_channels, out_channels, kernel_size[0], kernel_size[1])\n",
        "    if type(kernel_size) == int:\n",
        "      filter = torch.rand(in_channels, out_channels, kernel_size, kernel_size)\n",
        "\n",
        "    spisok = []\n",
        "\n",
        "    for l in range(out_channels):\n",
        "\n",
        "      feature_map = torch.zeros((matrix.shape[1]-1)*stride + dilation * (kernel_size-1)+1, (matrix.shape[2]-1)*stride  + dilation * (kernel_size-1)+1 ) #генерация пустой feature-map\n",
        "      for c in range (in_channels):\n",
        "\n",
        "        for i in range (0, matrix.shape[1]):  #проход по всем пикселям изображения\n",
        "          for j in range (0, matrix.shape[2]):\n",
        "\n",
        "            val = matrix[c][i][j]\n",
        "            proizv = val*filter[c][l]\n",
        "\n",
        "            zero_tensor = torch.zeros((filter.shape[2]-1)*dilation+1, (filter.shape[3]-1)*dilation+1)\n",
        "\n",
        "            for a in range (0, zero_tensor.shape[0], dilation):\n",
        "              for b in range (0, zero_tensor.shape[1], dilation):\n",
        "                zero_tensor[a][b] = proizv[a//dilation][b//dilation]\n",
        "\n",
        "            res = np.add((zero_tensor), feature_map[i*stride:i*stride+(filter.shape[2]-1)*dilation+1, j*stride:j*stride+(filter.shape[3]-1)*dilation+1])\n",
        "            feature_map[i*stride:i*stride+(filter.shape[2]-1)*dilation+1, j*stride:j*stride+(filter.shape[3]-1)*dilation+1] = res\n",
        "\n",
        "\n",
        "      spisok.append(np.add(feature_map, np.full((feature_map.shape), bias_val[l])))\n",
        "\n",
        "\n",
        "    for t in range(len(spisok)):\n",
        "      if output_padding > 0:\n",
        "        pad_func = torch.nn.ConstantPad1d((0, output_padding, 0, output_padding), 0)\n",
        "        spisok[t] = pad_func(spisok[t])\n",
        "\n",
        "      spisok[t] = spisok[t][0+padding:spisok[t].shape[0]-padding, 0+padding:spisok[t].shape[1]-padding]\n",
        "\n",
        "\n",
        "    return spisok, filter, torch.tensor(bias_val)\n",
        "\n",
        "  return Svertca"
      ]
    },
    {
      "cell_type": "code",
      "source": [
        "import torch\n",
        "import numpy as np\n",
        "import sys\n",
        "import os\n",
        "\n",
        "py_file_location = \"/content/myConv.py\"\n",
        "sys.path.append(os.path.abspath(py_file_location))\n",
        "from myConv import myConvTranspose2d\n",
        "\n",
        "tensor1 = torch.rand(8, 5, 6)\n",
        "\n",
        "myFunction = myConvTranspose2d(in_channels=8, out_channels=2, kernel_size=3, stride=1, padding=0, output_padding=0, dilation=1, bias=True, padding_mode='zeros')\n",
        "result, kernel, bias_val = myFunction(tensor1)\n",
        "torchFunction = torch.nn.ConvTranspose2d(in_channels=8, out_channels=2, kernel_size=3, stride=1, padding=0, output_padding=0, dilation=1, bias=True, padding_mode='zeros')\n",
        "torchFunction.weight.data = kernel\n",
        "torchFunction.bias.data = bias_val\n",
        "\n",
        "print(result);\n",
        "print('===================================')\n",
        "print(str(np.array(torchFunction(tensor1).data)))"
      ],
      "metadata": {
        "colab": {
          "base_uri": "https://localhost:8080/"
        },
        "id": "kqtGZEM1QC9g",
        "outputId": "466b52be-cc84-4831-ea74-c1bfad06dd17"
      },
      "execution_count": 3,
      "outputs": [
        {
          "output_type": "stream",
          "name": "stdout",
          "text": [
            "[tensor([[ 2.8598,  5.5790,  6.8660,  7.9250,  6.6737,  7.2016,  4.6999,  2.9852],\n",
            "        [ 4.0509,  8.5427, 12.2801, 13.5456, 12.3468, 11.9590,  9.0198,  5.2242],\n",
            "        [ 6.4449, 12.8052, 17.6082, 16.8300, 18.6578, 18.8966, 12.2961,  5.8559],\n",
            "        [ 6.9400, 12.3295, 17.8442, 17.3421, 17.2084, 16.0428, 11.5736,  5.7699],\n",
            "        [ 5.9667,  9.5592, 15.4848, 15.2841, 16.3996, 15.1445, 11.3261,  5.8880],\n",
            "        [ 4.3850,  7.5819, 10.6721,  8.7875, 10.8828, 10.6861,  7.5851,  3.9204],\n",
            "        [ 2.4671,  4.0811,  4.4687,  4.7187,  6.0020,  6.0533,  3.8547,  1.8625]]), tensor([[ 2.8483,  5.6793,  6.8157,  7.3087,  6.9912,  7.2029,  3.5701,  2.2553],\n",
            "        [ 5.0666,  9.9444, 14.6408, 15.2385, 14.0816, 13.6100,  9.2088,  5.2235],\n",
            "        [ 7.8791, 11.9476, 19.7869, 20.0420, 20.2104, 20.5688, 13.1608,  6.0312],\n",
            "        [ 7.4884, 13.0260, 20.3440, 19.9025, 19.3294, 20.9452, 11.8518,  5.8166],\n",
            "        [ 5.9635, 12.1000, 16.9360, 17.7547, 18.3462, 17.2381, 11.4345,  6.5401],\n",
            "        [ 4.1403,  7.5171, 12.3002, 11.6366, 11.8802, 10.6357,  9.1887,  5.1428],\n",
            "        [ 1.6285,  4.0151,  4.4686,  5.0777,  5.4090,  5.6994,  4.2106,  2.4049]])]\n",
            "===================================\n",
            "[[[ 2.859846   5.579042   6.865951   7.925039   6.673679   7.201586\n",
            "    4.699942   2.9851654]\n",
            "  [ 4.050919   8.542701  12.280143  13.545598  12.346778  11.958998\n",
            "    9.019825   5.2241745]\n",
            "  [ 6.444937  12.805241  17.608189  16.829958  18.657825  18.896578\n",
            "   12.29608    5.855941 ]\n",
            "  [ 6.9400296 12.329483  17.844212  17.3421    17.208403  16.04283\n",
            "   11.573604   5.769877 ]\n",
            "  [ 5.966652   9.559152  15.484833  15.284138  16.399622  15.14451\n",
            "   11.32606    5.8880157]\n",
            "  [ 4.3850203  7.5819187 10.672085   8.787536  10.882765  10.686064\n",
            "    7.585133   3.9203825]\n",
            "  [ 2.4670777  4.081084   4.4686933  4.7186837  6.0019813  6.053286\n",
            "    3.8547335  1.8624845]]\n",
            "\n",
            " [[ 2.8482811  5.6793003  6.8157187  7.308744   6.9911947  7.2028704\n",
            "    3.5701005  2.2553425]\n",
            "  [ 5.066642   9.9444275 14.640767  15.23845   14.081568  13.610029\n",
            "    9.20876    5.2234716]\n",
            "  [ 7.87914   11.947556  19.786911  20.041958  20.210438  20.56883\n",
            "   13.160777   6.031221 ]\n",
            "  [ 7.4884214 13.025986  20.344019  19.90255   19.32941   20.945246\n",
            "   11.851749   5.8166075]\n",
            "  [ 5.963503  12.09995   16.935959  17.75472   18.346233  17.238064\n",
            "   11.434459   6.5400915]\n",
            "  [ 4.140309   7.517094  12.300226  11.636622  11.880232  10.635688\n",
            "    9.18872    5.142834 ]\n",
            "  [ 1.6285241  4.0150833  4.46858    5.077664   5.408986   5.6993823\n",
            "    4.210603   2.4048612]]]\n"
          ]
        },
        {
          "output_type": "stream",
          "name": "stderr",
          "text": [
            "/content/myConv.py:56: UserWarning: To copy construct from a tensor, it is recommended to use sourceTensor.clone().detach() or sourceTensor.clone().detach().requires_grad_(True), rather than torch.tensor(sourceTensor).\n",
            "  return spisok, filter, torch.tensor(bias_val)\n"
          ]
        }
      ]
    },
    {
      "cell_type": "code",
      "source": [
        "py_file_location = \"/content/myConv.py\"\n",
        "sys.path.append(os.path.abspath(py_file_location))\n",
        "from myConv import myConvTranspose2d\n",
        "\n",
        "tensor2 = torch.rand(3, 28, 28)\n",
        "\n",
        "myFunction2 = myConvTranspose2d(in_channels=3, out_channels=2, kernel_size=3, stride=10, padding=0, output_padding=0, dilation=3, bias=True, padding_mode='zeros')\n",
        "result, kernel, bias_val = myFunction2(tensor2)\n",
        "torchFunction2 = torch.nn.ConvTranspose2d(in_channels=3, out_channels=2, kernel_size=3, stride=10, padding=0, output_padding=0, dilation=3, bias=True, padding_mode='zeros')\n",
        "torchFunction2.weight.data = kernel\n",
        "torchFunction2.bias.data = bias_val\n",
        "\n",
        "print(result);\n",
        "print('===================================')\n",
        "print(str(np.array(torchFunction2(tensor2).data)))"
      ],
      "metadata": {
        "colab": {
          "base_uri": "https://localhost:8080/"
        },
        "id": "3BHKowd2c03Y",
        "outputId": "78c91b55-0b8f-4ec7-ef3c-bb32693668fa"
      },
      "execution_count": 4,
      "outputs": [
        {
          "output_type": "stream",
          "name": "stdout",
          "text": [
            "[tensor([[0.2605, 0.1270, 0.1270,  ..., 0.1270, 0.1270, 0.6592],\n",
            "        [0.1270, 0.1270, 0.1270,  ..., 0.1270, 0.1270, 0.1270],\n",
            "        [0.1270, 0.1270, 0.1270,  ..., 0.1270, 0.1270, 0.1270],\n",
            "        ...,\n",
            "        [0.1270, 0.1270, 0.1270,  ..., 0.1270, 0.1270, 0.1270],\n",
            "        [0.1270, 0.1270, 0.1270,  ..., 0.1270, 0.1270, 0.1270],\n",
            "        [0.9670, 0.1270, 0.1270,  ..., 0.1270, 0.1270, 1.3622]]), tensor([[1.5108, 0.9070, 0.9070,  ..., 0.9070, 0.9070, 1.4054],\n",
            "        [0.9070, 0.9070, 0.9070,  ..., 0.9070, 0.9070, 0.9070],\n",
            "        [0.9070, 0.9070, 0.9070,  ..., 0.9070, 0.9070, 0.9070],\n",
            "        ...,\n",
            "        [0.9070, 0.9070, 0.9070,  ..., 0.9070, 0.9070, 0.9070],\n",
            "        [0.9070, 0.9070, 0.9070,  ..., 0.9070, 0.9070, 0.9070],\n",
            "        [1.5693, 0.9070, 0.9070,  ..., 0.9070, 0.9070, 2.0006]])]\n",
            "===================================\n",
            "[[[0.26048583 0.12701535 0.12701535 ... 0.12701535 0.12701535 0.65921915]\n",
            "  [0.12701535 0.12701535 0.12701535 ... 0.12701535 0.12701535 0.12701535]\n",
            "  [0.12701535 0.12701535 0.12701535 ... 0.12701535 0.12701535 0.12701535]\n",
            "  ...\n",
            "  [0.12701535 0.12701535 0.12701535 ... 0.12701535 0.12701535 0.12701535]\n",
            "  [0.12701535 0.12701535 0.12701535 ... 0.12701535 0.12701535 0.12701535]\n",
            "  [0.96703    0.12701535 0.12701535 ... 0.12701535 0.12701535 1.3622495 ]]\n",
            "\n",
            " [[1.510817   0.9069508  0.9069508  ... 0.9069508  0.9069508  1.4053862 ]\n",
            "  [0.9069508  0.9069508  0.9069508  ... 0.9069508  0.9069508  0.9069508 ]\n",
            "  [0.9069508  0.9069508  0.9069508  ... 0.9069508  0.9069508  0.9069508 ]\n",
            "  ...\n",
            "  [0.9069508  0.9069508  0.9069508  ... 0.9069508  0.9069508  0.9069508 ]\n",
            "  [0.9069508  0.9069508  0.9069508  ... 0.9069508  0.9069508  0.9069508 ]\n",
            "  [1.5693386  0.9069508  0.9069508  ... 0.9069508  0.9069508  2.0006332 ]]]\n"
          ]
        }
      ]
    },
    {
      "cell_type": "code",
      "source": [
        "py_file_location = \"/content/myConv.py\"\n",
        "sys.path.append(os.path.abspath(py_file_location))\n",
        "from myConv import myConvTranspose2d\n",
        "\n",
        "tensor3 = torch.rand(5, 6, 6)\n",
        "\n",
        "myFunction3 = myConvTranspose2d(in_channels=5, out_channels=1, kernel_size=3, stride=3, padding=5, output_padding=2, dilation=1, bias=True, padding_mode='zeros')\n",
        "result, kernel, bias_val = myFunction3(tensor3)\n",
        "torchFunction3 = torch.nn.ConvTranspose2d(in_channels=5, out_channels=1, kernel_size=3, stride=3, padding=5, output_padding=2, dilation=1, bias=True, padding_mode='zeros')\n",
        "torchFunction3.weight.data = kernel\n",
        "torchFunction3.bias.data = bias_val\n",
        "\n",
        "print(result);\n",
        "print('===================================')\n",
        "print(str(np.array(torchFunction3(tensor3).data)))"
      ],
      "metadata": {
        "colab": {
          "base_uri": "https://localhost:8080/"
        },
        "id": "tq52gyb4eiWl",
        "outputId": "699716ea-3bb3-413b-a182-f43c3a946b92"
      },
      "execution_count": 5,
      "outputs": [
        {
          "output_type": "stream",
          "name": "stdout",
          "text": [
            "[tensor([[1.7753, 1.6710, 1.5603, 1.4493, 1.7275, 1.9334, 1.7317, 1.0574, 1.7598,\n",
            "         1.2063],\n",
            "        [1.4878, 1.3918, 1.4311, 1.6097, 1.3737, 1.5230, 2.0465, 1.6238, 1.8384,\n",
            "         1.7109],\n",
            "        [1.4636, 1.5081, 1.5574, 1.3780, 1.7805, 1.6260, 1.8874, 1.9596, 1.7642,\n",
            "         1.5263],\n",
            "        [1.0774, 1.3967, 1.4802, 1.5431, 1.7497, 2.1047, 1.6753, 1.7384, 2.1493,\n",
            "         1.9954],\n",
            "        [2.1867, 1.2413, 1.6368, 1.7405, 0.8691, 0.9806, 1.5332, 1.0256, 1.1941,\n",
            "         1.1755],\n",
            "        [2.0014, 1.7641, 1.3868, 1.8393, 1.2281, 1.1159, 1.4325, 1.3257, 1.0744,\n",
            "         1.1338],\n",
            "        [2.1417, 1.4303, 2.3494, 1.2465, 1.3861, 1.6265, 1.1575, 1.1306, 1.5047,\n",
            "         1.2812],\n",
            "        [1.0475, 1.4424, 1.4889, 2.1523, 1.3224, 1.3409, 1.4782, 0.9236, 0.9553,\n",
            "         1.4279],\n",
            "        [1.0029, 1.7351, 1.7207, 1.9101, 1.2330, 1.5781, 1.2240, 1.2146, 1.0348,\n",
            "         1.3188],\n",
            "        [0.8476, 1.7472, 1.8946, 1.7006, 1.2214, 1.2171, 1.1202, 1.1820, 1.3157,\n",
            "         1.2530]])]\n",
            "===================================\n",
            "[[[1.7753255  1.6709709  1.5603015  1.4493241  1.7274837  1.93345\n",
            "   1.7316804  1.0574043  1.7598248  1.2062726 ]\n",
            "  [1.4877572  1.3918216  1.4310803  1.6096807  1.373656   1.5230472\n",
            "   2.0464556  1.6238024  1.8384483  1.710912  ]\n",
            "  [1.46364    1.5080605  1.5574427  1.3780084  1.7804654  1.6260154\n",
            "   1.8873887  1.9596014  1.7641509  1.5262699 ]\n",
            "  [1.0774317  1.3966839  1.4802275  1.5430503  1.7496951  2.1046915\n",
            "   1.6752634  1.7384207  2.1493483  1.9954157 ]\n",
            "  [2.186717   1.2413425  1.6368256  1.7405202  0.8691249  0.9805611\n",
            "   1.533237   1.0255959  1.1940575  1.1754998 ]\n",
            "  [2.0014186  1.7641401  1.3868151  1.839328   1.2280983  1.1158885\n",
            "   1.4324739  1.3257332  1.0743937  1.1338276 ]\n",
            "  [2.1416686  1.4302707  2.3493903  1.2465079  1.3861063  1.6265132\n",
            "   1.1574576  1.1306212  1.5047376  1.2812096 ]\n",
            "  [1.0474921  1.4423661  1.4889467  2.1523438  1.3223541  1.3408773\n",
            "   1.4782186  0.9235573  0.95528704 1.4278841 ]\n",
            "  [1.0028734  1.7350848  1.7207074  1.9101305  1.2329915  1.5781426\n",
            "   1.2240326  1.2146122  1.0348063  1.3187556 ]\n",
            "  [0.8475887  1.7472353  1.8945549  1.7005875  1.2214227  1.2171203\n",
            "   1.1202228  1.1820171  1.3156841  1.2530212 ]]]\n"
          ]
        }
      ]
    },
    {
      "cell_type": "code",
      "source": [
        "py_file_location = \"/content/myConv.py\"\n",
        "sys.path.append(os.path.abspath(py_file_location))\n",
        "from myConv import myConvTranspose2d\n",
        "\n",
        "tensor4 = torch.rand(1, 1, 1)\n",
        "\n",
        "myFunction4 = myConvTranspose2d(in_channels=1, out_channels=1, kernel_size=1, stride=1, padding=0, output_padding=0, dilation=1, bias=True, padding_mode='zeros')\n",
        "result, kernel, bias_val = myFunction4(tensor4)\n",
        "torchFunction4 = torch.nn.ConvTranspose2d(in_channels=1, out_channels=1, kernel_size=1, stride=1, padding=0, output_padding=0, dilation=1, bias=True, padding_mode='zeros')\n",
        "torchFunction4.weight.data = kernel\n",
        "torchFunction4.bias.data = bias_val\n",
        "\n",
        "print(result);\n",
        "print('===================================')\n",
        "print(str(np.array(torchFunction4(tensor4).data)))"
      ],
      "metadata": {
        "colab": {
          "base_uri": "https://localhost:8080/"
        },
        "id": "0DUpqG1Ngvc0",
        "outputId": "41ca609a-0af8-4bd0-d372-5cc369a2c29c"
      },
      "execution_count": 6,
      "outputs": [
        {
          "output_type": "stream",
          "name": "stdout",
          "text": [
            "[tensor([[0.1762]])]\n",
            "===================================\n",
            "[[[0.17620993]]]\n"
          ]
        }
      ]
    }
  ]
}