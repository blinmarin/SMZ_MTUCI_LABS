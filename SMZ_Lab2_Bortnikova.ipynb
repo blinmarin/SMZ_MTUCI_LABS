{
  "nbformat": 4,
  "nbformat_minor": 0,
  "metadata": {
    "colab": {
      "provenance": []
    },
    "kernelspec": {
      "name": "python3",
      "display_name": "Python 3"
    },
    "language_info": {
      "name": "python"
    }
  },
  "cells": [
    {
      "cell_type": "code",
      "execution_count": 6,
      "metadata": {
        "colab": {
          "base_uri": "https://localhost:8080/"
        },
        "id": "T97TX1dSqtAv",
        "outputId": "24ee53da-5ffc-480f-8a57-96494d8410d7"
      },
      "outputs": [
        {
          "output_type": "stream",
          "name": "stdout",
          "text": [
            "Writing myConv.py\n"
          ]
        }
      ],
      "source": [
        "%%file myConv.py\n",
        "\n",
        "import torch\n",
        "import numpy as np\n",
        "def myConv3d(in_channels, out_channels, kernel_size, stride=1, padding=0, dilation=1, groups=1, bias=True, padding_mode='zeros'):\n",
        "  def Svertca(matrix):\n",
        "\n",
        "    #groups exeption\n",
        "    if (in_channels%groups != 0) or (out_channels%groups!=0):\n",
        "      raise Exception('in_channels and out_channels must be divisible by groups')\n",
        "\n",
        "    #генерация bias\n",
        "    if bias == True:\n",
        "      bias_val = torch.rand(out_channels)\n",
        "    else:\n",
        "      bias_val = torch.zeros(out_channels)\n",
        "\n",
        "    #padding_mode\n",
        "    if (padding_mode == 'zeros'):\n",
        "      pad = torch.nn.ZeroPad3d(padding)\n",
        "      matrix = pad(matrix)\n",
        "    if (padding_mode == 'reflect'):\n",
        "      pad = torch.nn.ReflectionPad3d(padding)\n",
        "      matrix = pad(matrix)\n",
        "    if (padding_mode == 'replicate'):\n",
        "      pad = torch.nn.ReplicationPad3d(padding)\n",
        "      matrix = pad(matrix)\n",
        "    if (padding_mode == 'circular'):\n",
        "      pad = torch.nn.CircularPad3d(padding)\n",
        "      matrix = pad(matrix)\n",
        "\n",
        "    #генерация ядра\n",
        "    if type(kernel_size) == tuple:\n",
        "      filter = torch.rand(out_channels, in_channels//groups, kernel_size[0], kernel_size[1], kernel_size[2])\n",
        "    if type(kernel_size) == int:\n",
        "      filter = torch.rand(out_channels, in_channels//groups, kernel_size, kernel_size, kernel_size)\n",
        "\n",
        "    #filter = b\n",
        "    # bias_val = bi\n",
        "\n",
        "    spisok = []\n",
        "    for l in range(out_channels):\n",
        "      feature_map = np.array([]) #генерация пустой feature-map\n",
        "      for k in range (0, matrix.shape[1]-((filter.shape[2]-1)*dilation+1)+1, stride):\n",
        "        for i in range (0, matrix.shape[2]-((filter.shape[3]-1)*dilation+1)+1, stride): #(filter.size - 1)*dilation + 1 при delation\n",
        "          for j in range (0, matrix.shape[3]-((filter.shape[4]-1)*dilation+1)+1, stride):\n",
        "            summa = 0\n",
        "            for c in range (in_channels//groups): #groups\n",
        "              if groups>1:\n",
        "                val = matrix[l*(in_channels//groups)+c][k:k+(filter.shape[2]-1)*dilation+1:dilation, i:i+(filter.shape[3]-1)*dilation+1:dilation, j:j+(filter.shape[4]-1)*dilation+1:dilation]\n",
        "              else:\n",
        "                val = matrix[c][k:k+(filter.shape[2]-1)*dilation+1:dilation, i:i+(filter.shape[3]-1)*dilation+1:dilation, j:j+(filter.shape[4]-1)*dilation+1:dilation]\n",
        "              mini_sum = (val*filter[l][c]).sum()\n",
        "              summa = summa + mini_sum\n",
        "            feature_map = np.append(feature_map, float(summa + bias_val[l])) #bias\n",
        "\n",
        "      spisok.append(feature_map.reshape((matrix.shape[1]-((filter.shape[2]-1)*dilation+1))//stride+1, (matrix.shape[2]-((filter.shape[3]-1)*dilation+1))//stride+1, (matrix.shape[3]-((filter.shape[4]-1)*dilation+1))//stride+1))\n",
        "\n",
        "    return np.array(spisok), torch.tensor(np.array(filter)), torch.tensor(np.array(bias_val))\n",
        "\n",
        "  return Svertca"
      ]
    },
    {
      "cell_type": "code",
      "source": [
        "%%file conftest.py\n",
        "\n",
        "from pytest import fixture\n",
        "import requests\n",
        "\n",
        "@fixture\n",
        "def session():\n",
        "  s = requests.Session()\n",
        "  s.headers.update({\"User-Agent\": \"pytest requests\"})\n",
        "  s.verify = True\n",
        "  yield s\n",
        "  s.close()"
      ],
      "metadata": {
        "colab": {
          "base_uri": "https://localhost:8080/"
        },
        "id": "gdJOmWNYweCy",
        "outputId": "5f5d5772-b3ae-4f2b-de85-d5916981cd25"
      },
      "execution_count": 7,
      "outputs": [
        {
          "output_type": "stream",
          "name": "stdout",
          "text": [
            "Overwriting conftest.py\n"
          ]
        }
      ]
    },
    {
      "cell_type": "code",
      "source": [
        "%%file test_http.py\n",
        "\n",
        "import numpy as np\n",
        "import torch\n",
        "import sys\n",
        "import os\n",
        "\n",
        "py_file_location = \"/content/myConv.py\"\n",
        "sys.path.append(os.path.abspath(py_file_location))\n",
        "from myConv import myConv3d\n",
        "\n",
        "tensor1 = torch.rand(4, 6, 6, 6)\n",
        "tensor2 = torch.rand(3, 24, 28, 20)\n",
        "tensor3 = torch.rand(1, 1, 1, 1)\n",
        "\n",
        "\n",
        "def test_1(session):\n",
        "  myFunction = myConv3d(in_channels=4, out_channels=2, kernel_size=3, stride=1, padding=0, dilation=1, groups=2, bias=True, padding_mode='zeros')\n",
        "  result, kernel, bias_val = myFunction(tensor1)\n",
        "  torchFunction = torch.nn.Conv3d(in_channels=4, out_channels=2, kernel_size=3, stride=1, padding=0, dilation=1, groups=2, bias=True, padding_mode='zeros')\n",
        "  torchFunction.weight.data = kernel\n",
        "  torchFunction.bias.data = bias_val\n",
        "  myResult = str(np.round(result, 2))\n",
        "  torchResult = str(np.round(np.array(torchFunction(tensor1).data), 2))\n",
        "  assert torchResult == myResult\n",
        "\n",
        "\n",
        "def test_2(session):\n",
        "  myFunction2 = myConv3d(in_channels=3, out_channels=1, kernel_size=3, stride=1, padding=0, dilation=2, groups=1, bias=True, padding_mode='zeros')\n",
        "  result2, kernel2, bias_val2 = myFunction2(tensor2)\n",
        "  torchFunction2 = torch.nn.Conv3d(in_channels=3, out_channels=1, kernel_size=3, stride=1, padding=0, dilation=2, groups=1, bias=True, padding_mode='zeros')\n",
        "  torchFunction2.weight.data = kernel2\n",
        "  torchFunction2.bias.data = bias_val2\n",
        "  myResult = str(np.round(result2, 2))\n",
        "  torchResult = str(np.round(np.array(torchFunction2(tensor2).data), 2))\n",
        "  assert torchResult == myResult\n",
        "\n",
        "\n",
        "def test_3(session):\n",
        "  myFunction3 = myConv3d(in_channels=1, out_channels=1, kernel_size=1, stride=1, padding=0, dilation=1, groups=1, bias=True, padding_mode='zeros')\n",
        "  result3, kernel3, bias_val3 = myFunction3(tensor3)\n",
        "  torchFunction3 = torch.nn.Conv3d(in_channels=1, out_channels=1, kernel_size=1, stride=1, padding=0, dilation=1, groups=1, bias=True, padding_mode='zeros')\n",
        "  torchFunction3.weight.data = kernel3\n",
        "  torchFunction3.bias.data = bias_val3\n",
        "  myResult = str(np.round(result3, 2))\n",
        "  torchResult = str(np.round(np.array(torchFunction3(tensor3).data), 2))\n",
        "  assert torchResult == myResult\n",
        "\n"
      ],
      "metadata": {
        "colab": {
          "base_uri": "https://localhost:8080/"
        },
        "id": "cPu7qKERwghb",
        "outputId": "eaf221dc-d500-4544-c258-61cf4af7765b"
      },
      "execution_count": 17,
      "outputs": [
        {
          "output_type": "stream",
          "name": "stdout",
          "text": [
            "Overwriting test_http.py\n"
          ]
        }
      ]
    },
    {
      "cell_type": "code",
      "source": [
        "!pytest"
      ],
      "metadata": {
        "colab": {
          "base_uri": "https://localhost:8080/"
        },
        "id": "MW-ymQhxxJgW",
        "outputId": "d23dcfac-7e3b-4dea-89f0-3bea1ded3e27"
      },
      "execution_count": 18,
      "outputs": [
        {
          "output_type": "stream",
          "name": "stdout",
          "text": [
            "\u001b[1m======================================= test session starts ========================================\u001b[0m\n",
            "platform linux -- Python 3.10.12, pytest-7.4.2, pluggy-1.3.0\n",
            "rootdir: /content\n",
            "plugins: anyio-3.7.1\n",
            "collected 3 items                                                                                  \u001b[0m\n",
            "\n",
            "test_http.py \u001b[32m.\u001b[0m\u001b[32m.\u001b[0m\u001b[32m.\u001b[0m\u001b[32m                                                                             [100%]\u001b[0m\n",
            "\n",
            "\u001b[32m======================================== \u001b[32m\u001b[1m3 passed\u001b[0m\u001b[32m in 2.73s\u001b[0m\u001b[32m =========================================\u001b[0m\n"
          ]
        }
      ]
    },
    {
      "cell_type": "code",
      "source": [
        "py_file_location = \"/content/myConv.py\"\n",
        "sys.path.append(os.path.abspath(py_file_location))\n",
        "from myConv import myConv3d\n",
        "\n",
        "tensor1 = torch.rand(4, 6, 6, 6)\n",
        "\n",
        "myFunction = myConv3d(in_channels=4, out_channels=2, kernel_size=5, stride=1, padding=0, dilation=1, groups=2, bias=True, padding_mode='zeros')\n",
        "result, kernel, bias_val = myFunction(tensor1)\n",
        "torchFunction = torch.nn.Conv3d(in_channels=4, out_channels=2, kernel_size=5, stride=1, padding=0, dilation=1, groups=2, bias=True, padding_mode='zeros')\n",
        "torchFunction.weight.data = kernel\n",
        "torchFunction.bias.data = bias_val\n",
        "\n",
        "print(result)\n",
        "print('===================================')\n",
        "print(np.array(torchFunction(tensor1).data))"
      ],
      "metadata": {
        "colab": {
          "base_uri": "https://localhost:8080/"
        },
        "id": "QITxVVZix04q",
        "outputId": "98b4bfe8-bdca-4593-89fb-2bfdced46597"
      },
      "execution_count": 42,
      "outputs": [
        {
          "output_type": "stream",
          "name": "stdout",
          "text": [
            "[[[[64.53336334 66.68784332]\n",
            "   [63.62639999 65.40755463]]\n",
            "\n",
            "  [[63.46946335 63.41612625]\n",
            "   [60.71492386 58.53714371]]]\n",
            "\n",
            "\n",
            " [[[68.8272934  66.29068756]\n",
            "   [67.02758789 66.45349884]]\n",
            "\n",
            "  [[71.62786865 65.44200897]\n",
            "   [68.41870117 65.66234589]]]]\n",
            "===================================\n",
            "[[[[64.5334   66.68787 ]\n",
            "   [63.62642  65.40756 ]]\n",
            "\n",
            "  [[63.469463 63.416138]\n",
            "   [60.714924 58.53714 ]]]\n",
            "\n",
            "\n",
            " [[[68.827286 66.29069 ]\n",
            "   [67.02759  66.45349 ]]\n",
            "\n",
            "  [[71.62789  65.44202 ]\n",
            "   [68.41869  65.66235 ]]]]\n"
          ]
        }
      ]
    },
    {
      "cell_type": "code",
      "source": [
        "py_file_location = \"/content/myConv.py\"\n",
        "sys.path.append(os.path.abspath(py_file_location))\n",
        "from myConv import myConv3d\n",
        "\n",
        "tensor2 = torch.rand(3, 10, 11, 12)\n",
        "\n",
        "myFunction2 = myConv3d(in_channels=3, out_channels=1, kernel_size=3, stride=1, padding=0, dilation=3, groups=1, bias=True, padding_mode='zeros')\n",
        "result2, kernel2, bias_val2 = myFunction2(tensor2)\n",
        "torchFunction2 = torch.nn.Conv3d(in_channels=3, out_channels=1, kernel_size=3, stride=1, padding=0, dilation=3, groups=1, bias=True, padding_mode='zeros')\n",
        "torchFunction2.weight.data = kernel2\n",
        "torchFunction2.bias.data = bias_val2\n",
        "\n",
        "print(result2)\n",
        "print('===================================')\n",
        "print(np.array(torchFunction2(tensor2).data))"
      ],
      "metadata": {
        "colab": {
          "base_uri": "https://localhost:8080/"
        },
        "id": "a9gTKH9eyefZ",
        "outputId": "ed1f4add-1606-4ee9-f914-39139f2cf8fe"
      },
      "execution_count": 31,
      "outputs": [
        {
          "output_type": "stream",
          "name": "stdout",
          "text": [
            "[[[[20.79693222 22.25090408 22.03878784 18.59212112 21.42960358\n",
            "    22.34885597]\n",
            "   [22.83572006 23.03974533 23.40683365 24.60747147 23.94603157\n",
            "    20.30619431]\n",
            "   [22.55557251 19.97583199 20.65616798 20.55960464 20.32538605\n",
            "    18.11207581]\n",
            "   [23.87866974 20.46404839 21.18225861 22.69393539 19.82923508\n",
            "    20.87178993]\n",
            "   [21.59698868 22.92676163 22.46319389 24.39571381 22.3573761\n",
            "    20.32081413]]\n",
            "\n",
            "  [[22.00375366 19.94393539 23.49243546 21.986866   23.13560677\n",
            "    21.91311646]\n",
            "   [18.31953621 21.12151146 22.16110611 18.57505035 20.71571159\n",
            "    21.68016052]\n",
            "   [21.95678139 23.01845551 19.12196541 20.61881065 23.19519806\n",
            "    20.13163376]\n",
            "   [22.02478409 21.70604324 22.01552963 21.99735832 21.64468956\n",
            "    22.87553215]\n",
            "   [20.83804321 20.44841957 20.24603271 22.77061081 21.50125694\n",
            "    21.00857544]]\n",
            "\n",
            "  [[20.44120598 19.91256714 21.48322296 22.32414627 19.32653046\n",
            "    24.33836174]\n",
            "   [18.42516327 22.14182281 20.21125412 20.40465164 22.15631485\n",
            "    18.49917221]\n",
            "   [21.31653786 20.83119965 21.39136696 21.38141632 21.43779182\n",
            "    22.71604156]\n",
            "   [19.83554077 21.13757706 21.48366165 20.36339951 18.61565971\n",
            "    24.04191971]\n",
            "   [20.67366791 21.361269   18.46439362 20.444767   22.59457779\n",
            "    20.19928932]]\n",
            "\n",
            "  [[22.28716087 21.79579544 21.35961533 21.17590714 19.52338409\n",
            "    22.97872925]\n",
            "   [19.84587479 23.57881546 23.28830719 21.47091866 21.85609055\n",
            "    21.42253494]\n",
            "   [22.79474258 22.65617752 22.87298393 23.64061165 20.26535797\n",
            "    18.87724304]\n",
            "   [23.68195724 20.35287094 22.96156311 24.38594818 21.33696556\n",
            "    22.07232666]\n",
            "   [21.34774017 22.11633682 22.28623199 24.19779968 22.54670334\n",
            "    19.25787354]]]]\n",
            "===================================\n",
            "[[[[20.796932 22.250906 22.038786 18.592125 21.429602 22.348856]\n",
            "   [22.835716 23.03975  23.406837 24.607471 23.946035 20.306194]\n",
            "   [22.555573 19.975834 20.65617  20.559603 20.325384 18.112074]\n",
            "   [23.878674 20.464052 21.182255 22.693943 19.829231 20.87179 ]\n",
            "   [21.59699  22.92676  22.463198 24.395714 22.357378 20.320816]]\n",
            "\n",
            "  [[22.003754 19.943935 23.492432 21.986864 23.135605 21.913118]\n",
            "   [18.319536 21.12151  22.161102 18.575056 20.71571  21.680164]\n",
            "   [21.95678  23.018457 19.121973 20.618813 23.195202 20.131636]\n",
            "   [22.024784 21.706041 22.015533 21.997356 21.644686 22.875528]\n",
            "   [20.838041 20.448425 20.246035 22.770613 21.50126  21.008575]]\n",
            "\n",
            "  [[20.441208 19.912565 21.48322  22.324146 19.326536 24.338362]\n",
            "   [18.425165 22.141823 20.211256 20.404652 22.156317 18.49917 ]\n",
            "   [21.316538 20.831194 21.39137  21.381418 21.43779  22.716043]\n",
            "   [19.835543 21.13758  21.483667 20.363398 18.615662 24.041916]\n",
            "   [20.67367  21.361263 18.464397 20.444769 22.594574 20.199291]]\n",
            "\n",
            "  [[22.287157 21.795797 21.359615 21.17591  19.523388 22.978724]\n",
            "   [19.845873 23.578812 23.288307 21.470917 21.856092 21.422537]\n",
            "   [22.794748 22.656181 22.872986 23.640614 20.265358 18.877249]\n",
            "   [23.681955 20.35287  22.961565 24.38595  21.336966 22.072325]\n",
            "   [21.347736 22.116339 22.286234 24.1978   22.546696 19.257872]]]]\n"
          ]
        }
      ]
    },
    {
      "cell_type": "code",
      "source": [
        "py_file_location = \"/content/myConv.py\"\n",
        "sys.path.append(os.path.abspath(py_file_location))\n",
        "from myConv import myConv3d\n",
        "\n",
        "tensor3 = torch.rand(1, 1, 1, 1)\n",
        "\n",
        "myFunction3 = myConv3d(in_channels=1, out_channels=1, kernel_size=1, stride=1, padding=0, dilation=1, groups=1, bias=True, padding_mode='zeros')\n",
        "result3, kernel3, bias_val3 = myFunction3(tensor3)\n",
        "torchFunction3 = torch.nn.Conv3d(in_channels=1, out_channels=1, kernel_size=1, stride=1, padding=0, dilation=1, groups=1, bias=True, padding_mode='zeros')\n",
        "torchFunction3.weight.data = kernel3\n",
        "torchFunction3.bias.data = bias_val3\n",
        "\n",
        "print(result3)\n",
        "print('===================================')\n",
        "print(np.array(torchFunction3(tensor3).data))"
      ],
      "metadata": {
        "colab": {
          "base_uri": "https://localhost:8080/"
        },
        "id": "2xfl93rT0FsM",
        "outputId": "929b3398-8dcb-400a-eb49-a123a753b360"
      },
      "execution_count": 34,
      "outputs": [
        {
          "output_type": "stream",
          "name": "stdout",
          "text": [
            "[[[[1.16362286]]]]\n",
            "===================================\n",
            "[[[[1.1636229]]]]\n"
          ]
        }
      ]
    },
    {
      "cell_type": "code",
      "source": [
        "py_file_location = \"/content/myConv.py\"\n",
        "sys.path.append(os.path.abspath(py_file_location))\n",
        "from myConv import myConv3d\n",
        "\n",
        "tensor4 = torch.rand(4, 5, 8, 5)\n",
        "\n",
        "myFunction4 = myConv3d(in_channels=4, out_channels=2, kernel_size=3, stride=3, padding=1, dilation=1, groups=2, bias=True, padding_mode='zeros')\n",
        "result4, kernel4, bias_val4 = myFunction4(tensor4)\n",
        "torchFunction4 = torch.nn.Conv3d(in_channels=4, out_channels=2, kernel_size=3, stride=3, padding=1, dilation=1, groups=2, bias=True, padding_mode='zeros')\n",
        "torchFunction4.weight.data = kernel4\n",
        "torchFunction4.bias.data = bias_val4\n",
        "\n",
        "print(result4)\n",
        "print('===================================')\n",
        "print(np.array(torchFunction4(tensor4).data))"
      ],
      "metadata": {
        "colab": {
          "base_uri": "https://localhost:8080/"
        },
        "id": "dlsMqC0V0Svo",
        "outputId": "a9d75269-0e66-4f0f-951a-dfa7713cc0d2"
      },
      "execution_count": 53,
      "outputs": [
        {
          "output_type": "stream",
          "name": "stdout",
          "text": [
            "[[[[ 3.24767613  5.0991478 ]\n",
            "   [ 6.47021675  7.53433466]\n",
            "   [ 6.87078524  6.31496382]]\n",
            "\n",
            "  [[ 5.95551157  8.93846226]\n",
            "   [ 8.28774261 13.67443752]\n",
            "   [10.45772076 10.7598114 ]]]\n",
            "\n",
            "\n",
            " [[[ 4.21545887  6.47156096]\n",
            "   [ 7.71272993  8.57029915]\n",
            "   [ 5.80379248  7.5198164 ]]\n",
            "\n",
            "  [[ 5.43322802  7.81936312]\n",
            "   [ 8.35266495 10.47672367]\n",
            "   [10.55189037 12.83864689]]]]\n",
            "===================================\n",
            "[[[[ 3.2476761  5.0991473]\n",
            "   [ 6.470217   7.5343347]\n",
            "   [ 6.870785   6.3149633]]\n",
            "\n",
            "  [[ 5.955511   8.938462 ]\n",
            "   [ 8.287742  13.6744375]\n",
            "   [10.45772   10.759811 ]]]\n",
            "\n",
            "\n",
            " [[[ 4.215459   6.4715614]\n",
            "   [ 7.7127295  8.570298 ]\n",
            "   [ 5.803793   7.5198164]]\n",
            "\n",
            "  [[ 5.433229   7.819363 ]\n",
            "   [ 8.352666  10.476723 ]\n",
            "   [10.55189   12.838646 ]]]]\n"
          ]
        }
      ]
    }
  ]
}